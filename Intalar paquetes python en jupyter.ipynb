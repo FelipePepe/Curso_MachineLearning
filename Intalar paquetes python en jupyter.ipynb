{
 "cells": [
  {
   "cell_type": "code",
   "execution_count": 1,
   "metadata": {},
   "outputs": [
    {
     "name": "stdout",
     "output_type": "stream",
     "text": [
      "Requirement already satisfied: matplotlib in c:\\users\\felipe\\appdata\\local\\programs\\python\\python37-32\\lib\\site-packages (3.1.1)\n",
      "Requirement already satisfied: python-dateutil>=2.1 in c:\\users\\felipe\\appdata\\local\\programs\\python\\python37-32\\lib\\site-packages (from matplotlib) (2.8.0)\n",
      "Requirement already satisfied: cycler>=0.10 in c:\\users\\felipe\\appdata\\local\\programs\\python\\python37-32\\lib\\site-packages (from matplotlib) (0.10.0)\n",
      "Requirement already satisfied: pyparsing!=2.0.4,!=2.1.2,!=2.1.6,>=2.0.1 in c:\\users\\felipe\\appdata\\local\\programs\\python\\python37-32\\lib\\site-packages (from matplotlib) (2.4.2)\n",
      "Requirement already satisfied: kiwisolver>=1.0.1 in c:\\users\\felipe\\appdata\\local\\programs\\python\\python37-32\\lib\\site-packages (from matplotlib) (1.1.0)\n",
      "Requirement already satisfied: numpy>=1.11 in c:\\users\\felipe\\appdata\\local\\programs\\python\\python37-32\\lib\\site-packages (from matplotlib) (1.16.2)\n",
      "Requirement already satisfied: six>=1.5 in c:\\users\\felipe\\appdata\\local\\programs\\python\\python37-32\\lib\\site-packages (from python-dateutil>=2.1->matplotlib) (1.12.0)\n",
      "Requirement already satisfied: setuptools in c:\\users\\felipe\\appdata\\local\\programs\\python\\python37-32\\lib\\site-packages (from kiwisolver>=1.0.1->matplotlib) (40.8.0)\n",
      "Requirement already satisfied: numpy in c:\\users\\felipe\\appdata\\local\\programs\\python\\python37-32\\lib\\site-packages (1.16.2)\n",
      "Requirement already satisfied: scikit-learn in c:\\users\\felipe\\appdata\\local\\programs\\python\\python37-32\\lib\\site-packages (0.21.3)\n",
      "Requirement already satisfied: numpy>=1.11.0 in c:\\users\\felipe\\appdata\\local\\programs\\python\\python37-32\\lib\\site-packages (from scikit-learn) (1.16.2)\n",
      "Requirement already satisfied: joblib>=0.11 in c:\\users\\felipe\\appdata\\local\\programs\\python\\python37-32\\lib\\site-packages (from scikit-learn) (0.13.2)\n",
      "Requirement already satisfied: scipy>=0.17.0 in c:\\users\\felipe\\appdata\\local\\programs\\python\\python37-32\\lib\\site-packages (from scikit-learn) (1.3.0)\n",
      "Requirement already satisfied: mglearn in c:\\users\\felipe\\appdata\\local\\programs\\python\\python37-32\\lib\\site-packages (0.1.7)\n",
      "Requirement already satisfied: numpy in c:\\users\\felipe\\appdata\\local\\programs\\python\\python37-32\\lib\\site-packages (from mglearn) (1.16.2)\n",
      "Requirement already satisfied: matplotlib in c:\\users\\felipe\\appdata\\local\\programs\\python\\python37-32\\lib\\site-packages (from mglearn) (3.1.1)\n",
      "Requirement already satisfied: scikit-learn in c:\\users\\felipe\\appdata\\local\\programs\\python\\python37-32\\lib\\site-packages (from mglearn) (0.21.3)\n",
      "Requirement already satisfied: pandas in c:\\users\\felipe\\appdata\\local\\programs\\python\\python37-32\\lib\\site-packages (from mglearn) (0.25.0)\n",
      "Requirement already satisfied: pillow in c:\\users\\felipe\\appdata\\local\\programs\\python\\python37-32\\lib\\site-packages (from mglearn) (6.1.0)\n",
      "Requirement already satisfied: cycler in c:\\users\\felipe\\appdata\\local\\programs\\python\\python37-32\\lib\\site-packages (from mglearn) (0.10.0)\n",
      "Requirement already satisfied: imageio in c:\\users\\felipe\\appdata\\local\\programs\\python\\python37-32\\lib\\site-packages (from mglearn) (2.5.0)\n",
      "Requirement already satisfied: pyparsing!=2.0.4,!=2.1.2,!=2.1.6,>=2.0.1 in c:\\users\\felipe\\appdata\\local\\programs\\python\\python37-32\\lib\\site-packages (from matplotlib->mglearn) (2.4.2)\n",
      "Requirement already satisfied: python-dateutil>=2.1 in c:\\users\\felipe\\appdata\\local\\programs\\python\\python37-32\\lib\\site-packages (from matplotlib->mglearn) (2.8.0)\n",
      "Requirement already satisfied: kiwisolver>=1.0.1 in c:\\users\\felipe\\appdata\\local\\programs\\python\\python37-32\\lib\\site-packages (from matplotlib->mglearn) (1.1.0)\n",
      "Requirement already satisfied: scipy>=0.17.0 in c:\\users\\felipe\\appdata\\local\\programs\\python\\python37-32\\lib\\site-packages (from scikit-learn->mglearn) (1.3.0)\n",
      "Requirement already satisfied: joblib>=0.11 in c:\\users\\felipe\\appdata\\local\\programs\\python\\python37-32\\lib\\site-packages (from scikit-learn->mglearn) (0.13.2)\n",
      "Requirement already satisfied: pytz>=2017.2 in c:\\users\\felipe\\appdata\\local\\programs\\python\\python37-32\\lib\\site-packages (from pandas->mglearn) (2019.2)\n",
      "Requirement already satisfied: six in c:\\users\\felipe\\appdata\\local\\programs\\python\\python37-32\\lib\\site-packages (from cycler->mglearn) (1.12.0)\n",
      "Requirement already satisfied: setuptools in c:\\users\\felipe\\appdata\\local\\programs\\python\\python37-32\\lib\\site-packages (from kiwisolver>=1.0.1->matplotlib->mglearn) (40.8.0)\n"
     ]
    }
   ],
   "source": [
    "import sys\n",
    "!{sys.executable} -m pip install matplotlib\n",
    "!{sys.executable} -m pip install numpy\n",
    "!{sys.executable} -m pip install scikit-learn\n",
    "!{sys.executable} -m pip install mglearn\n",
    "\n"
   ]
  },
  {
   "cell_type": "code",
   "execution_count": null,
   "metadata": {},
   "outputs": [],
   "source": []
  }
 ],
 "metadata": {
  "kernelspec": {
   "display_name": "Python 3",
   "language": "python",
   "name": "python3"
  },
  "language_info": {
   "codemirror_mode": {
    "name": "ipython",
    "version": 3
   },
   "file_extension": ".py",
   "mimetype": "text/x-python",
   "name": "python",
   "nbconvert_exporter": "python",
   "pygments_lexer": "ipython3",
   "version": "3.7.4"
  }
 },
 "nbformat": 4,
 "nbformat_minor": 2
}
